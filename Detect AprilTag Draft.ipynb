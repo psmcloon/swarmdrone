{
 "cells": [
  {
   "cell_type": "code",
   "execution_count": 1,
   "id": "7c2878d8",
   "metadata": {},
   "outputs": [
    {
     "name": "stdout",
     "output_type": "stream",
     "text": [
      "Requirement already satisfied: opencv-python in c:\\users\\katok\\anaconda3\\envs\\apriltag37\\lib\\site-packages (4.7.0.72)\n",
      "Requirement already satisfied: numpy>=1.17.0 in c:\\users\\katok\\anaconda3\\envs\\apriltag37\\lib\\site-packages (from opencv-python) (1.21.6)\n",
      "Note: you may need to restart the kernel to use updated packages.\n"
     ]
    }
   ],
   "source": [
    "pip install opencv-python\n",
    "pip install pupil-apriltags \n",
    "pip install pyyaml\n",
    "pip install matplotlib"
   ]
  },
  {
   "cell_type": "code",
   "execution_count": null,
   "id": "ca7393df",
   "metadata": {},
   "outputs": [],
   "source": [
    "from platform import python_version\n",
    "print(python_version())\n",
    "# 3.7.16 works for pupil apriltag library"
   ]
  },
  {
   "cell_type": "code",
   "execution_count": 33,
   "id": "19d624af",
   "metadata": {
    "scrolled": true
   },
   "outputs": [
    {
     "name": "stdout",
     "output_type": "stream",
     "text": [
      "x:  [169.52009947] y:  [179.27850379] z:  [-584.74619416] yaw:  0.02966769045970718642\r"
     ]
    }
   ],
   "source": [
    "# Drone Coordinate System: +X towards front of drone, +Y towards right of drone, +Z towards ground\n",
    "# Apriltag Coordinate System: +X towards right of tag, +Y towards top of tag, +Z further from tag\n",
    "# Desired Coordinate System: origin at drone camera, coordinate rotation same as apriltag coordinate system but rotated about tag z axis to align yaw with drone\n",
    "# Note that zero yaw occurs when xy of drone and apriltag coordinate systems align\n",
    "\n",
    "import cv2\n",
    "import os\n",
    "from pupil_apriltags import Detector\n",
    "import numpy as np\n",
    "from matplotlib import pyplot as plt\n",
    "import matplotlib.cm as cm\n",
    "\n",
    "# Camera Calibration Data\n",
    "fxcal = 938.61258241\n",
    "fycal = 937.70826823\n",
    "cxcal = 640/2\n",
    "cycal = 480/2\n",
    "tag_size = 107.5\n",
    "\n",
    "cap = cv2.VideoCapture(0) # webcam reference\n",
    "i = 0\n",
    "x_vals = []\n",
    "y_vals = []\n",
    "\n",
    "# Check if opened correctly\n",
    "if not cap.isOpened():\n",
    "    raise IOError(\"Cannot open webcam\")\n",
    "\n",
    "while (cap.isOpened()):\n",
    "    ret, frame = cap.read() # ret = bool for capture success, if success is stored in frame\n",
    "    frame = cv2.resize(frame, None, fx=1, fy=1, interpolation=cv2.INTER_AREA)\n",
    "    # frame is each image from webcam\n",
    "\n",
    "    gray_img = cv2.cvtColor(frame,cv2.COLOR_BGR2GRAY)\n",
    "   \n",
    "    # initialize detector\n",
    "    at_detector = Detector(\n",
    "        families=\"tag36h11\",\n",
    "        nthreads=1,\n",
    "        quad_decimate=1.0,\n",
    "        quad_sigma=0.0,\n",
    "        refine_edges=1,\n",
    "        decode_sharpening=0.25,\n",
    "        debug=0\n",
    "    )\n",
    "\n",
    "    tags = at_detector.detect(gray_img, estimate_tag_pose=True, camera_params=(fxcal, fycal, cxcal, cycal), tag_size=tag_size)\n",
    "    for tag in tags:\n",
    "        pose_r = tag.pose_R\n",
    "        pose_t = -tag.pose_t\n",
    "        homography = tag.homography\n",
    "        pitch = np.arcsin(-pose_r[2,0]) # pitch dependent on tag orientation\n",
    "        roll = np.arcsin(pose_r[2,1]/np.cos(pitch)) # roll depedent on tag orientation\n",
    "        yaw = np.arcsin(pose_r[1,0]/np.cos(pitch))\n",
    "        \n",
    "#         Print apriltag position with drone as origin\n",
    "#         print('x: ', np.round(pose_t[0],2), 'y: ', np.round(pose_t[1],2), 'z: ', np.round(pose_t[2],2), 'yaw: ', np.round(yaw,2), 'pitch: ', np.round(pitch,2),'roll: ', np.round(roll,2), end='\\r')\n",
    "        \n",
    "    \n",
    "#         Calculate and print the drone position with apriltag as origin\n",
    "#         arr1 = np.array(pose_r)\n",
    "#         cpose_r = np.linalg.inv(arr1)\n",
    "#         cpose_t = np.array(-1*pose_t)\n",
    "#         tframepose_t = np.matmul(cpose_r, cpose_t)\n",
    "#         print('x: ', tframepose_t[0], 'y: ', tframepose_t[1], 'z: ', tframepose_t[2], end='\\r')\n",
    "\n",
    "\n",
    "#         Calculate the apriltag position with camera as origin, but with apriltag coordinate system rotated to align with drone yaw\n",
    "#         arr1 = np.array(pose_r)\n",
    "#         cpose_r = np.linalg.inv(arr1)\n",
    "#         cpose_t = np.array(-1*pose_t)\n",
    "#         tframepose_t = np.matmul(cpose_r, cpose_t)\n",
    "#         cframepose_t = -tframepose_t\n",
    "#         yawarray = np.array([[np.cos(yaw), -np.sin(yaw), 0], [np.sin(yaw), np.cos(yaw), 0], [0, 0, 1]])\n",
    "#         position = np.matmul(yawarray, cframepose_t)\n",
    "#         print('x: ', position[0], 'y: ', position[1], 'z: ', position[2], 'yaw: ', -yaw, end='\\r')\n",
    "    \n",
    "    tags = at_detector.detect(gray_img)\n",
    "    for tag in tags:\n",
    "#         print(int(tag.center[0]),int(tag.center[1]))\n",
    "        detected_img = cv2.circle(gray_img, (int(tag.center[0]),int(tag.center[1])), radius=5, color=(200,200,200), thickness=2)\n",
    "        for corner in tag.corners:\n",
    "            detected_img = cv2.circle(gray_img, (int(corner[0]), int(corner[1])),radius=5, color=(0,255,0), thickness=2)    \n",
    "        \n",
    "#     print center for troubleshooting\n",
    "    x_vals.append(int(corner[0]))\n",
    "    y_vals.append(int(corner[1]))\n",
    "    \n",
    "#     for troubleshooting display on laptop    \n",
    "    if type(detected_img) == np.ndarray:\n",
    "        cv2.imshow(\"Filtered: Ecs to exit\", detected_img)\n",
    "        save_img = detected_img\n",
    "    else:\n",
    "        cv2.imshow(\"Filtered: Ecs to exit\", frame)\n",
    "        save_img = frame\n",
    "    detected_img = frame; # reset img definition\n",
    "    \n",
    "    c = cv2.waitKey(1) # display popup window\n",
    "    if c == 27: # until escape is pressed\n",
    "        break\n",
    "        \n",
    "    # writes to folder on desktop, rename as required \n",
    "#     cv2.imwrite(os.path.join(\"C:\\\\Users\\\\katok\\\\OneDrive\\\\Desktop\\\\ME 495\\\\AprilTag\",'Frame'+str(i)+'.jpg'), save_img) \n",
    "    i += 1\n",
    "    \n",
    "cap.release()\n",
    "cv2.destroyAllWindows()"
   ]
  },
  {
   "cell_type": "code",
   "execution_count": null,
   "id": "1e65c88a",
   "metadata": {},
   "outputs": [],
   "source": []
  }
 ],
 "metadata": {
  "kernelspec": {
   "display_name": "Python [conda env:apriltag37]",
   "language": "python",
   "name": "conda-env-apriltag37-py"
  },
  "language_info": {
   "codemirror_mode": {
    "name": "ipython",
    "version": 3
   },
   "file_extension": ".py",
   "mimetype": "text/x-python",
   "name": "python",
   "nbconvert_exporter": "python",
   "pygments_lexer": "ipython3",
   "version": "3.7.16"
  }
 },
 "nbformat": 4,
 "nbformat_minor": 5
}
